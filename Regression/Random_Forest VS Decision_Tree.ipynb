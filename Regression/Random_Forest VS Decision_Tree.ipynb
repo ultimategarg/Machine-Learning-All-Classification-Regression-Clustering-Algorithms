{
 "cells": [
  {
   "cell_type": "markdown",
   "metadata": {},
   "source": [
    "# Random Forest Regression:"
   ]
  },
  {
   "cell_type": "code",
   "execution_count": 12,
   "metadata": {},
   "outputs": [],
   "source": [
    "#import the libraries\n",
    "import pandas as pd\n",
    "import numpy as np\n",
    "import matplotlib.pyplot as plt\n",
    "\n",
    "#Load the dataset\n",
    "df=pd.read_csv(\"Data/Position_Salaries.csv\")\n",
    "features=df.iloc[:,1:2].values\n",
    "labels=df.iloc[:,-1].values\n"
   ]
  },
  {
   "cell_type": "code",
   "execution_count": 13,
   "metadata": {},
   "outputs": [],
   "source": [
    "from sklearn.ensemble import RandomForestRegressor\n",
    "regressor=RandomForestRegressor(n_estimators=10,random_state=0)\n"
   ]
  },
  {
   "cell_type": "code",
   "execution_count": 14,
   "metadata": {},
   "outputs": [
    {
     "data": {
      "text/plain": [
       "array([167000.])"
      ]
     },
     "execution_count": 14,
     "metadata": {},
     "output_type": "execute_result"
    }
   ],
   "source": [
    "#Fitting the Random Forest Regressor to data\n",
    "regressor.fit(features,labels)\n",
    "regressor.predict(6.5)"
   ]
  },
  {
   "cell_type": "code",
   "execution_count": 15,
   "metadata": {},
   "outputs": [
    {
     "data": {
      "image/png": "[encoded data removed]",
      "text/plain": [
       "<matplotlib.figure.Figure at 0x25f9439df60>"
      ]
     },
     "metadata": {},
     "output_type": "display_data"
    }
   ],
   "source": [
    "#visualising the Random ForestRegression Results \n",
    "ft_grid=np.arange(min(features),max(features),0.1)\n",
    "ft_grid=ft_grid.reshape((-1,1))\n",
    "\n",
    "plt.scatter(features,labels,color=\"red\")\n",
    "plt.plot(ft_grid,regressor.predict(ft_grid),color=\"green\")\n",
    "plt.show()"
   ]
  },
  {
   "cell_type": "markdown",
   "metadata": {},
   "source": [
    "# Decision Tree Regression:\n"
   ]
  },
  {
   "cell_type": "code",
   "execution_count": 17,
   "metadata": {},
   "outputs": [],
   "source": [
    "#import the libraries\n",
    "import pandas as pd\n",
    "\n",
    "\n",
    "df=pd.read_csv(\"Data/Position_Salaries.csv\")\n",
    "features=df.iloc[:,1:2].values\n",
    "labels=df.iloc[:,-1].values\n"
   ]
  },
  {
   "cell_type": "code",
   "execution_count": 18,
   "metadata": {},
   "outputs": [
    {
     "data": {
      "text/plain": [
       "array([150000.])"
      ]
     },
     "execution_count": 18,
     "metadata": {},
     "output_type": "execute_result"
    }
   ],
   "source": [
    "from sklearn.tree import DecisionTreeRegressor\n",
    "a=DecisionTreeRegressor(random_state=0)\n",
    "\n",
    "#Fitting the Decision Tree Regressor to data\n",
    "a.fit(features,labels)\n",
    "a.predict(6.5)"
   ]
  },
  {
   "cell_type": "code",
   "execution_count": 19,
   "metadata": {},
   "outputs": [
    {
     "data": {
      "image/png": "[encoded data removed]",
      "text/plain": [
       "<matplotlib.figure.Figure at 0x25f94441208>"
      ]
     },
     "metadata": {},
     "output_type": "display_data"
    }
   ],
   "source": [
    "#visualising the Decision Tree Regression Results \n",
    "ft_grid=np.arange(min(features),max(features),0.1)\n",
    "ft_grid=ft_grid.reshape((-1,1))\n",
    "\n",
    "plt.scatter(features,labels,color=\"red\")\n",
    "plt.plot(ft_grid,a.predict(ft_grid),color=\"green\")\n",
    "plt.show()"
   ]
  }
 ],
 "metadata": {
  "kernelspec": {
   "display_name": "Python 3",
   "language": "python",
   "name": "python3"
  },
  "language_info": {
   "codemirror_mode": {
    "name": "ipython",
    "version": 3
   },
   "file_extension": ".py",
   "mimetype": "text/x-python",
   "name": "python",
   "nbconvert_exporter": "python",
   "pygments_lexer": "ipython3",
   "version": "3.6.4"
  }
 },
 "nbformat": 4,
 "nbformat_minor": 2
}
